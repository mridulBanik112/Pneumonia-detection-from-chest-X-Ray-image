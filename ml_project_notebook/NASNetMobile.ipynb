{
 "cells": [
  {
   "cell_type": "markdown",
   "metadata": {
    "id": "L31gXWAl9R2v"
   },
   "source": [
    "# New Section"
   ]
  },
  {
   "cell_type": "code",
   "execution_count": 1,
   "metadata": {},
   "outputs": [],
   "source": [
    "import numpy as np\n",
    "import tensorflow as tf\n",
    "from tensorflow import keras"
   ]
  },
  {
   "cell_type": "code",
   "execution_count": 2,
   "metadata": {
    "colab": {
     "base_uri": "https://localhost:8080/"
    },
    "id": "pVE_f3ThElc1",
    "outputId": "6b8f99de-b3e9-4b02-d0db-3eb09eca8512"
   },
   "outputs": [
    {
     "name": "stderr",
     "output_type": "stream",
     "text": [
      "2021-12-04 13:47:46.620124: I tensorflow/compiler/jit/xla_cpu_device.cc:41] Not creating XLA devices, tf_xla_enable_xla_devices not set\n",
      "2021-12-04 13:47:46.620245: I tensorflow/core/platform/cpu_feature_guard.cc:142] This TensorFlow binary is optimized with oneAPI Deep Neural Network Library (oneDNN) to use the following CPU instructions in performance-critical operations:  SSE4.1 SSE4.2 AVX AVX2 FMA\n",
      "To enable them in other operations, rebuild TensorFlow with the appropriate compiler flags.\n",
      "2021-12-04 13:47:46.623520: I tensorflow/core/common_runtime/process_util.cc:146] Creating new thread pool with default inter op setting: 2. Tune using inter_op_parallelism_threads for best performance.\n"
     ]
    }
   ],
   "source": [
    "\n",
    "IMAGE_SIZE = 224\n",
    "pretrained_model = tf.keras.applications.NASNetMobile(input_shape=(224,224, 3), include_top=False)\n",
    "pretrained_model.trainable = False\n",
    "\n",
    "model = tf.keras.Sequential([\n",
    "            pretrained_model,\n",
    "           tf.keras.layers.Flatten(),\n",
    "            tf.keras.layers.Dense(128, activation = \"relu\"),\n",
    "            \n",
    "            tf.keras.layers.Dense(2, activation = \"softmax\")\n",
    "])"
   ]
  },
  {
   "cell_type": "code",
   "execution_count": 3,
   "metadata": {
    "id": "SZ5HWqrpEuhl"
   },
   "outputs": [],
   "source": [
    "model.compile(loss='categorical_crossentropy',optimizer='adam',metrics=['accuracy'])"
   ]
  },
  {
   "cell_type": "code",
   "execution_count": 4,
   "metadata": {
    "id": "wp0fgQuHEzbm"
   },
   "outputs": [
    {
     "name": "stderr",
     "output_type": "stream",
     "text": [
      "Using TensorFlow backend.\n"
     ]
    }
   ],
   "source": [
    "# Train from scratch\n",
    "from keras.preprocessing import image\n",
    "from keras.preprocessing.image import ImageDataGenerator\n",
    "train_datagen = image.ImageDataGenerator(\n",
    "    rescale = 1./255,\n",
    "    shear_range = 0.2,\n",
    "    zoom_range = 0.2,\n",
    "    horizontal_flip = True,\n",
    ")\n",
    "\n",
    "test_dataset = image.ImageDataGenerator(rescale=1./255)"
   ]
  },
  {
   "cell_type": "code",
   "execution_count": 5,
   "metadata": {
    "colab": {
     "base_uri": "https://localhost:8080/"
    },
    "id": "TbpDsVKnE2ur",
    "outputId": "d8de733a-895c-4812-baff-7b8e5b27b007"
   },
   "outputs": [
    {
     "name": "stdout",
     "output_type": "stream",
     "text": [
      "Found 5216 images belonging to 2 classes.\n"
     ]
    }
   ],
   "source": [
    "train_generator = train_datagen.flow_from_directory(\n",
    "    '/s/fir/e/nobackup/Fresh-Phish/transformer_exps/progs/mirdul-notebooks/ml_project/chest_xray/train',\n",
    "    target_size = (224,224),\n",
    "    batch_size = 32,\n",
    "    class_mode = 'categorical')\n"
   ]
  },
  {
   "cell_type": "code",
   "execution_count": 6,
   "metadata": {
    "colab": {
     "base_uri": "https://localhost:8080/"
    },
    "id": "nddd6fhCE9hj",
    "outputId": "559c9893-cac2-41f2-f89e-e321d89d4ce8"
   },
   "outputs": [
    {
     "name": "stdout",
     "output_type": "stream",
     "text": [
      "Found 624 images belonging to 2 classes.\n"
     ]
    }
   ],
   "source": [
    "validation_generator = test_dataset.flow_from_directory(\n",
    "    '/s/fir/e/nobackup/Fresh-Phish/transformer_exps/progs/mirdul-notebooks/ml_project/chest_xray/test',\n",
    "    target_size = (224,224),\n",
    "    batch_size = 32,\n",
    "    class_mode = 'categorical',\n",
    "    shuffle = False)"
   ]
  },
  {
   "cell_type": "code",
   "execution_count": 7,
   "metadata": {
    "colab": {
     "base_uri": "https://localhost:8080/"
    },
    "id": "emHKjxcpEzaM",
    "outputId": "b8628ddf-9591-4b0a-f147-09ff6c8ac15e"
   },
   "outputs": [
    {
     "name": "stderr",
     "output_type": "stream",
     "text": [
      "2021-12-04 13:47:50.636956: I tensorflow/compiler/mlir/mlir_graph_optimization_pass.cc:116] None of the MLIR optimization passes are enabled (registered 2)\n",
      "2021-12-04 13:47:50.648904: I tensorflow/core/platform/profile_utils/cpu_utils.cc:112] CPU Frequency: 3800135000 Hz\n"
     ]
    },
    {
     "name": "stdout",
     "output_type": "stream",
     "text": [
      "Epoch 1/10\n",
      "50/50 [==============================] - 103s 2s/step - loss: 6.1880 - accuracy: 0.7038 - val_loss: 1.2992 - val_accuracy: 0.7772\n",
      "Epoch 2/10\n",
      "50/50 [==============================] - 81s 2s/step - loss: 0.6655 - accuracy: 0.8611 - val_loss: 1.7308 - val_accuracy: 0.6314\n",
      "Epoch 3/10\n",
      "50/50 [==============================] - 71s 1s/step - loss: 0.6973 - accuracy: 0.7926 - val_loss: 1.6495 - val_accuracy: 0.5946\n",
      "Epoch 4/10\n",
      "50/50 [==============================] - 85s 2s/step - loss: 0.3311 - accuracy: 0.8974 - val_loss: 1.2320 - val_accuracy: 0.7452\n",
      "Epoch 5/10\n",
      "50/50 [==============================] - 82s 2s/step - loss: 0.2379 - accuracy: 0.9008 - val_loss: 1.3071 - val_accuracy: 0.6474\n",
      "Epoch 6/10\n",
      "50/50 [==============================] - 79s 2s/step - loss: 0.2805 - accuracy: 0.8995 - val_loss: 2.8558 - val_accuracy: 0.7083\n",
      "Epoch 7/10\n",
      "50/50 [==============================] - 74s 1s/step - loss: 0.1450 - accuracy: 0.9444 - val_loss: 1.1889 - val_accuracy: 0.7083\n",
      "Epoch 8/10\n",
      "50/50 [==============================] - 77s 2s/step - loss: 0.2819 - accuracy: 0.9137 - val_loss: 1.4746 - val_accuracy: 0.7260\n",
      "Epoch 9/10\n",
      "50/50 [==============================] - 74s 1s/step - loss: 0.2825 - accuracy: 0.9118 - val_loss: 1.2863 - val_accuracy: 0.7131\n",
      "Epoch 10/10\n",
      "50/50 [==============================] - 74s 1s/step - loss: 0.1880 - accuracy: 0.9225 - val_loss: 0.8855 - val_accuracy: 0.7372\n"
     ]
    }
   ],
   "source": [
    "hist = model.fit(train_generator,steps_per_epoch=50 ,epochs=10, validation_data=validation_generator) \n"
   ]
  },
  {
   "cell_type": "markdown",
   "metadata": {
    "id": "nJYFAdzk4lm5"
   },
   "source": [
    "**Model Image**"
   ]
  },
  {
   "cell_type": "code",
   "execution_count": 8,
   "metadata": {
    "colab": {
     "base_uri": "https://localhost:8080/",
     "height": 369
    },
    "id": "O-3Bt6U635fE",
    "outputId": "bab2f303-392c-4af4-fe99-5b42e8c3b44f"
   },
   "outputs": [
    {
     "name": "stdout",
     "output_type": "stream",
     "text": [
      "('Failed to import pydot. You must `pip install pydot` and install graphviz (https://graphviz.gitlab.io/download/), ', 'for `pydotprint` to work.')\n"
     ]
    }
   ],
   "source": [
    "from tensorflow.keras.utils import plot_model\n",
    "plot_model(model, to_file='xray-resnet50.png')"
   ]
  },
  {
   "cell_type": "markdown",
   "metadata": {
    "id": "QdyyBm8j4q33"
   },
   "source": [
    "**Model Summary**"
   ]
  },
  {
   "cell_type": "code",
   "execution_count": 9,
   "metadata": {
    "colab": {
     "base_uri": "https://localhost:8080/"
    },
    "id": "O68E3Rty4IfD",
    "outputId": "472fbf15-50aa-489a-a3d8-14b945aaeae0"
   },
   "outputs": [
    {
     "name": "stdout",
     "output_type": "stream",
     "text": [
      "Model: \"sequential\"\n",
      "_________________________________________________________________\n",
      "Layer (type)                 Output Shape              Param #   \n",
      "=================================================================\n",
      "NASNet (Functional)          (None, 7, 7, 1056)        4269716   \n",
      "_________________________________________________________________\n",
      "flatten (Flatten)            (None, 51744)             0         \n",
      "_________________________________________________________________\n",
      "dense (Dense)                (None, 128)               6623360   \n",
      "_________________________________________________________________\n",
      "dense_1 (Dense)              (None, 2)                 258       \n",
      "=================================================================\n",
      "Total params: 10,893,334\n",
      "Trainable params: 6,623,618\n",
      "Non-trainable params: 4,269,716\n",
      "_________________________________________________________________\n"
     ]
    }
   ],
   "source": [
    "model.summary()"
   ]
  },
  {
   "cell_type": "markdown",
   "metadata": {
    "id": "giCRra3r4wTk"
   },
   "source": [
    "**Accuracy and Loss Graph**"
   ]
  },
  {
   "cell_type": "code",
   "execution_count": 10,
   "metadata": {
    "colab": {
     "base_uri": "https://localhost:8080/",
     "height": 573
    },
    "id": "ltolJ5_i4MDZ",
    "outputId": "8ffcac06-16d3-41fb-8211-e9621ff41c9e"
   },
   "outputs": [
    {
     "data": {
      "image/png": "[encoded data removed]",
      "text/plain": [
       "<Figure size 432x288 with 1 Axes>"
      ]
     },
     "metadata": {},
     "output_type": "display_data"
    },
    {
     "data": {
      "image/png": "[encoded data removed]",
      "text/plain": [
       "<Figure size 432x288 with 1 Axes>"
      ]
     },
     "metadata": {},
     "output_type": "display_data"
    }
   ],
   "source": [
    "import numpy as np\n",
    "import pandas as pd\n",
    "import matplotlib.pyplot as plt\n",
    "import seaborn as sns\n",
    "from sklearn.model_selection import train_test_split\n",
    "from keras.models import Sequential\n",
    "from keras.layers import Activation, Dense, Dropout\n",
    "from keras import optimizers\n",
    "from sklearn.metrics import confusion_matrix,accuracy_score, roc_curve, auc\n",
    "%matplotlib inline\n",
    "history = hist\n",
    "sns.set_style(\"whitegrid\")\n",
    "np.random.seed(697)\n",
    "accuracy = history.history['accuracy']\n",
    "val_accuracy = history.history['val_accuracy']\n",
    "loss = history.history['loss']\n",
    "val_loss = history.history['val_loss']\n",
    "epochs = range(len(accuracy))\n",
    "plt.figure()\n",
    "plt.plot(history.history['loss'])\n",
    "plt.plot(history.history['val_loss'])\n",
    "plt.title('model loss')\n",
    "plt.ylabel('loss')\n",
    "plt.xlabel('epoch')\n",
    "plt.legend(['train', 'val'], loc='upper right')\n",
    "#plt.xlim(1, 21)\n",
    "#plt.ylim(0, 1)\n",
    "plt.show()\n",
    "plt.figure()\n",
    "plt.plot(history.history['accuracy'])\n",
    "plt.plot(history.history['val_accuracy'])\n",
    "plt.title('model acc')\n",
    "plt.ylabel('accuracy')\n",
    "plt.xlabel('epoch')\n",
    "plt.legend(['train', 'val'], loc='upper left')\n",
    "#plt.xlim(1, 21)\n",
    "#plt.ylim(0, 1)\n",
    "plt.show()"
   ]
  },
  {
   "cell_type": "markdown",
   "metadata": {
    "id": "ojwn7Ptn45uM"
   },
   "source": [
    "**Confusion Matrix**"
   ]
  },
  {
   "cell_type": "code",
   "execution_count": 11,
   "metadata": {
    "colab": {
     "base_uri": "https://localhost:8080/",
     "height": 369
    },
    "id": "5ji8mEoL4iQ5",
    "outputId": "3944b1d1-b81f-4077-e1bc-151b9633b91b"
   },
   "outputs": [],
   "source": [
    "\n",
    "# Look at confusion matrix \n",
    "import itertools\n",
    "plt.rcParams['figure.figsize'] = (5, 5)\n",
    "def plot_confusion_matrix(cm, classes,\n",
    "                          normalize=False,\n",
    "                          title='Confusion matrix',\n",
    "                          cmap=plt.cm.Blues):\n",
    "    \n",
    "    \"\"\"\n",
    "    This function prints and plots the confusion matrix.\n",
    "    Normalization can be applied by setting `normalize=True`.\n",
    "    \"\"\"\n",
    "    plt.imshow(cm, interpolation='nearest', cmap=cmap)\n",
    "    plt.title(title)\n",
    "    plt.colorbar()\n",
    "    tick_marks = np.arange(len(classes))\n",
    "    plt.xticks(tick_marks, classes, rotation=45)\n",
    "    plt.yticks(tick_marks, classes)\n",
    "\n",
    "    if normalize:\n",
    "        cm = cm.astype('float') / cm.sum(axis=1)[:, np.newaxis]\n",
    "\n",
    "    thresh = cm.max() / 2.\n",
    "    for i, j in itertools.product(range(cm.shape[0]), range(cm.shape[1])):\n",
    "        plt.text(j, i, cm[i, j],\n",
    "                 horizontalalignment=\"center\",\n",
    "                 color=\"white\" if cm[i, j] > thresh else \"black\")\n",
    "\n",
    "    plt.tight_layout()\n",
    "    plt.ylabel('True label')\n",
    "    plt.xlabel('Predicted label')\n",
    "    plt.savefig('confusion_matricesfor61classbangengtype.png', dpi=100)\n",
    "\n",
    "\n",
    "#plot_confusion_matrix(confusion_matrix(true_classes, pred) ,classes = ['Normal','Pneumonia'])"
   ]
  },
  {
   "cell_type": "markdown",
   "metadata": {
    "id": "y6r3Fesx5Rvx"
   },
   "source": [
    "**Confusion Matrix accuray precission of_validation**"
   ]
  },
  {
   "cell_type": "code",
   "execution_count": 12,
   "metadata": {},
   "outputs": [
    {
     "name": "stdout",
     "output_type": "stream",
     "text": [
      "[[121 113]\n",
      " [ 56 334]]\n",
      "              precision    recall  f1-score   support\n",
      "\n",
      "           0       0.68      0.52      0.59       234\n",
      "           1       0.75      0.86      0.80       390\n",
      "\n",
      "    accuracy                           0.73       624\n",
      "   macro avg       0.72      0.69      0.69       624\n",
      "weighted avg       0.72      0.73      0.72       624\n",
      "\n"
     ]
    },
    {
     "data": {
      "image/png": "[encoded data removed]",
      "text/plain": [
       "<Figure size 360x360 with 2 Axes>"
      ]
     },
     "metadata": {},
     "output_type": "display_data"
    }
   ],
   "source": [
    "from sklearn.metrics import confusion_matrix\n",
    "import numpy\n",
    "pred= model.predict(validation_generator)\n",
    "#print(\"pred\")\n",
    "#print(pred)\n",
    "pred = np.argmax(pred,axis=1)\n",
    "#print(\"np.argmax\")\n",
    "#print(pred)\n",
    "true_classes = validation_generator.classes\n",
    "#print(test_generator.filenames)\n",
    "#print(\"true classes\")\n",
    "#print(true_classes)\n",
    "cf = confusion_matrix(true_classes,pred)\n",
    "print(cf)\n",
    "plot_confusion_matrix(confusion_matrix(true_classes, pred) ,classes = ['Normal','Pneumonia'])\n",
    "import sklearn.metrics as metrics\n",
    "# class_labels = list(validation_generator.class_indices.keys())  \n",
    "report = metrics.classification_report(true_classes, pred)\n",
    "print(report) "
   ]
  },
  {
   "cell_type": "markdown",
   "metadata": {
    "id": "FGZivSWzveb7"
   },
   "source": [
    "**Confusion accuracy of test gen**"
   ]
  },
  {
   "cell_type": "code",
   "execution_count": 13,
   "metadata": {},
   "outputs": [
    {
     "name": "stdout",
     "output_type": "stream",
     "text": [
      "Found 16 images belonging to 2 classes.\n",
      "[[0 8]\n",
      " [0 8]]\n",
      "              precision    recall  f1-score   support\n",
      "\n",
      "           0       0.00      0.00      0.00         8\n",
      "           1       0.50      1.00      0.67         8\n",
      "\n",
      "    accuracy                           0.50        16\n",
      "   macro avg       0.25      0.50      0.33        16\n",
      "weighted avg       0.25      0.50      0.33        16\n",
      "\n"
     ]
    },
    {
     "name": "stderr",
     "output_type": "stream",
     "text": [
      "/s/chopin/l/grad/mbanik/miniconda3/lib/python3.8/site-packages/sklearn/metrics/_classification.py:1221: UndefinedMetricWarning: Precision and F-score are ill-defined and being set to 0.0 in labels with no predicted samples. Use `zero_division` parameter to control this behavior.\n",
      "  _warn_prf(average, modifier, msg_start, len(result))\n"
     ]
    },
    {
     "data": {
      "image/png": "[encoded data removed]",
      "text/plain": [
       "<Figure size 360x360 with 2 Axes>"
      ]
     },
     "metadata": {},
     "output_type": "display_data"
    }
   ],
   "source": [
    "test_generator = test_dataset.flow_from_directory(\n",
    "    '/s/fir/e/nobackup/Fresh-Phish/transformer_exps/progs/mirdul-notebooks/ml_project/chest_xray/val',\n",
    "    target_size = (224,224),\n",
    "    batch_size = 32,\n",
    "    class_mode = 'categorical',\n",
    "    shuffle = False)\n",
    "from sklearn.metrics import confusion_matrix\n",
    "import numpy\n",
    "pred= model.predict(test_generator)\n",
    "#print(\"pred\")\n",
    "#print(pred)\n",
    "pred = np.argmax(pred,axis=1)\n",
    "#print(\"np.argmax\")\n",
    "#print(pred)\n",
    "true_classes = test_generator.classes\n",
    "#print(test_generator.filenames)\n",
    "#print(\"true classes\")\n",
    "#print(true_classes)\n",
    "cf = confusion_matrix(true_classes,pred)\n",
    "print(cf)\n",
    "plot_confusion_matrix(confusion_matrix(true_classes, pred) ,classes = ['Normal','Pneumonia'])\n",
    "import sklearn.metrics as metrics\n",
    "# class_labels = list(validation_generator.class_indices.keys())  \n",
    "report = metrics.classification_report(true_classes, pred)\n",
    "print(report) "
   ]
  },
  {
   "cell_type": "code",
   "execution_count": null,
   "metadata": {},
   "outputs": [],
   "source": []
  }
 ],
 "metadata": {
  "colab": {
   "collapsed_sections": [],
   "name": "Copy of  vgg 19 X-Ray 1.0 acc.ipynb",
   "provenance": []
  },
  "kernelspec": {
   "display_name": "Python 3 (ipykernel)",
   "language": "python",
   "name": "python3"
  },
  "language_info": {
   "codemirror_mode": {
    "name": "ipython",
    "version": 3
   },
   "file_extension": ".py",
   "mimetype": "text/x-python",
   "name": "python",
   "nbconvert_exporter": "python",
   "pygments_lexer": "ipython3",
   "version": "3.8.10"
  }
 },
 "nbformat": 4,
 "nbformat_minor": 1
}
